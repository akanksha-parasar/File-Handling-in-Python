{
  "nbformat": 4,
  "nbformat_minor": 0,
  "metadata": {
    "colab": {
      "name": "FileHandling.ipynb",
      "provenance": [],
      "collapsed_sections": [],
      "authorship_tag": "ABX9TyP9J7nFdcUwg/9gGHlfYgr0",
      "include_colab_link": true
    },
    "kernelspec": {
      "name": "python3",
      "display_name": "Python 3"
    },
    "language_info": {
      "name": "python"
    }
  },
  "cells": [
    {
      "cell_type": "markdown",
      "metadata": {
        "id": "view-in-github",
        "colab_type": "text"
      },
      "source": [
        "<a href=\"https://colab.research.google.com/github/akanksha-parasar/File-Handling-in-Python/blob/main/FileHandling.ipynb\" target=\"_parent\"><img src=\"https://colab.research.google.com/assets/colab-badge.svg\" alt=\"Open In Colab\"/></a>"
      ]
    },
    {
      "cell_type": "markdown",
      "source": [
        "1. Write a function in python to read the content from a text file line by line and\n",
        "display the same on screen."
      ],
      "metadata": {
        "id": "dD3dEEytuMtH"
      }
    },
    {
      "cell_type": "code",
      "source": [
        "def read_it():\n",
        "  file = open(\"greet.txt\",\"r\")\n",
        "  for line in file:\n",
        "    print(line,end=\"\")\n",
        "  file.close()\n",
        "read_it()"
      ],
      "metadata": {
        "colab": {
          "base_uri": "https://localhost:8080/",
          "height": 0
        },
        "id": "RJTkZ72qt9qC",
        "outputId": "32ea130a-f772-41f6-c598-91eb07b806a1"
      },
      "execution_count": 4,
      "outputs": [
        {
          "output_type": "stream",
          "name": "stdout",
          "text": [
            "Before introducing yourself in an email, first check if you have any common acquaintances with the recipient. If you know someone who works at the same company or who attended college with them, try asking your mutual contact if they would be willing to introduce you or allow you to mention their name in your email.\n",
            "Allow Me to Introduce Myself \n",
            "Good afternoon\n",
            "Good morning\n",
            "How are you?\n",
            "Hope this email finds you well\n",
            "I hope you enjoyed your weekend\n",
            "I hope you're doing well\n",
            "I hope you're having a great week\n",
            "I hope you're having a wonderful day\n",
            "It's great to hear from you\n",
            "This is used to describe a singular countable noun and these is used with plural countable nouns.  A countable noun has a plural form such as books, girls, boys, toys, etc. For example we say a book but six books or many books or some books or a few books.  A non-countable noun has no plural form.  To illustrate the use of the words “this” and “these”, consider the following sentences.\n",
            "This is used to describe a singular countable noun and these is used with plural countable nouns.  A countable noun has a plural form such as books, girls, boys, toys, etc. For example we say a book but six books or many books or some books or a few books.  A non-countable noun has no plural form.  To illustrate the use of the words “this” and “these”, consider the following sentences.\n",
            "\n"
          ]
        }
      ]
    },
    {
      "cell_type": "markdown",
      "source": [
        "2. Write a function in python to count the number of lines from a text file which\n",
        "is not starting with an alphabet &quot;T&quot;."
      ],
      "metadata": {
        "id": "bpU4njzX0Ah0"
      }
    },
    {
      "cell_type": "code",
      "source": [
        "def count_no_T():\n",
        "  file = open(\"greet.txt\",\"r\")\n",
        "  lines = file.readlines()\n",
        "  cnt = 0\n",
        "  for line in lines:\n",
        "   if line[0] not in \"'T' %or% 't' \":\n",
        "      cnt+=1\n",
        "  print(\"Total lines without t as starting letter:\",cnt)\n",
        "  file.close()\n",
        "count_no_T()"
      ],
      "metadata": {
        "colab": {
          "base_uri": "https://localhost:8080/",
          "height": 0
        },
        "id": "a25wtP2ryWXO",
        "outputId": "ff4343d8-6655-4839-cb56-3a6c1b8bc95b"
      },
      "execution_count": 20,
      "outputs": [
        {
          "output_type": "stream",
          "name": "stdout",
          "text": [
            "Total lines without t as starting letter: 12\n"
          ]
        }
      ]
    },
    {
      "cell_type": "markdown",
      "source": [
        "3. Write a function in Python to count and display the total number of words in\n",
        "a text file."
      ],
      "metadata": {
        "id": "3JAvA1Yz7JH0"
      }
    },
    {
      "cell_type": "code",
      "source": [
        "def count_words():\n",
        "  file = open(\"greet.txt\",\"r\")\n",
        "  paragraph = file.read()\n",
        "  words = paragraph.split()\n",
        "  print(\"Total no of words in the file:\",len(words))\n",
        "  file.close()\n",
        "count_words()\n"
      ],
      "metadata": {
        "colab": {
          "base_uri": "https://localhost:8080/",
          "height": 0
        },
        "id": "_9wGRlwV4NQ_",
        "outputId": "e443236b-97d6-4d04-ef92-831579d0ae1f"
      },
      "execution_count": 23,
      "outputs": [
        {
          "output_type": "stream",
          "name": "stdout",
          "text": [
            "Total no of words in the file: 252\n"
          ]
        }
      ]
    },
    {
      "cell_type": "markdown",
      "source": [
        "4. Write a function in Python to read lines from a text file. Your function should\n",
        "find and display the occurrence of the word \"the\"."
      ],
      "metadata": {
        "id": "5kkBHiCg9BSi"
      }
    },
    {
      "cell_type": "code",
      "source": [
        "def find_the():\n",
        "  file = open(\"greet.txt\",\"r\")\n",
        "  paragraph = file.read()\n",
        "  words = paragraph.split()\n",
        "  cnt = 0\n",
        "  for w in words:\n",
        "    if w == \"The\" or w == \"the\":\n",
        "      cnt+=1\n",
        "  print(\"total num of word 'the' present:\",cnt)\n",
        "  file.close()\n",
        "find_the()"
      ],
      "metadata": {
        "colab": {
          "base_uri": "https://localhost:8080/",
          "height": 0
        },
        "id": "b918T-Qc8oP1",
        "outputId": "6887fe9d-55d4-4558-efbe-ea05654c158d"
      },
      "execution_count": 35,
      "outputs": [
        {
          "output_type": "stream",
          "name": "stdout",
          "text": [
            "total num of word the present: 10\n"
          ]
        }
      ]
    },
    {
      "cell_type": "markdown",
      "source": [
        "5. Write a function in python to read lines from a text file and display those\n",
        "words, which are less than 4 characters."
      ],
      "metadata": {
        "id": "4LSw4kU___FY"
      }
    },
    {
      "cell_type": "code",
      "source": [
        "def find_Less_4():\n",
        "  file = open(\"greet.txt\",\"r\")\n",
        "  paragraph = file.read()\n",
        "  words = paragraph.split()\n",
        "  cnt = 0\n",
        "  print(\"Words with length less than 4:\")\n",
        "  for w in words:\n",
        "    if(len(w)<4):\n",
        "      print(w,end=\" \")\n",
        "  file.close()\n",
        "find_Less_4()"
      ],
      "metadata": {
        "colab": {
          "base_uri": "https://localhost:8080/",
          "height": 0
        },
        "id": "fYwh2HL8-N--",
        "outputId": "b152e2ee-0991-49cc-a292-34776222df04"
      },
      "execution_count": 52,
      "outputs": [
        {
          "output_type": "stream",
          "name": "stdout",
          "text": [
            "Words with length less than 4:\n",
            "in an if you any the If you who at the or who try if be to you or you to in Me to How are you I you I I a I a day to you is to a and is A has a as For we say a but six or or or a few A has no To the use of the and the is to a and is A has a as For we say a but six or or or a few A has no To the use of the and the i do The red go to the "
          ]
        }
      ]
    },
    {
      "cell_type": "markdown",
      "source": [
        "6. Write a function in Python to count the words &quot;this&quot; and &quot;these&quot; present in a\n",
        "text file."
      ],
      "metadata": {
        "id": "7qvWurHICesR"
      }
    },
    {
      "cell_type": "code",
      "source": [
        "def find_this_these():\n",
        "  file = open(\"greet.txt\",\"r\")\n",
        "  paragraph = file.read()\n",
        "  words = paragraph.split()\n",
        "  cnt = 0\n",
        "  for w in words:\n",
        "    if w == \"This\" or w == \"this\" or w==\"These\" or w == \"these\":\n",
        "      cnt+=1\n",
        "  print(\"total num of 'this' and 'these' present:\",cnt)\n",
        "  file.close()\n",
        "find_this_these()"
      ],
      "metadata": {
        "colab": {
          "base_uri": "https://localhost:8080/",
          "height": 0
        },
        "id": "v-At-t9kCQqY",
        "outputId": "b7094405-b27e-4980-e184-f26b63cc0309"
      },
      "execution_count": 51,
      "outputs": [
        {
          "output_type": "stream",
          "name": "stdout",
          "text": [
            "total num of 'this' and 'these' present: 5\n"
          ]
        }
      ]
    },
    {
      "cell_type": "markdown",
      "source": [
        "7. Write a function in Python to count words in a text file those are ending with\n",
        "alphabet &quot;e&quot;."
      ],
      "metadata": {
        "id": "PuxlWMuqDTip"
      }
    },
    {
      "cell_type": "code",
      "source": [
        "def find_e():\n",
        "  file = open(\"greet.txt\",\"r\")\n",
        "  paragraph = file.read()\n",
        "  words = paragraph.split()\n",
        "  cnt = 0\n",
        "  for w in words:\n",
        "    l = len(w)\n",
        "    if w[l-1] == \"e\":\n",
        "      cnt+=1\n",
        "      print(w,end=\" \")\n",
        "  print(\"\\ntotal num of words ending with'e':\",cnt)\n",
        "\n",
        "  file.close()\n",
        "find_e()"
      ],
      "metadata": {
        "colab": {
          "base_uri": "https://localhost:8080/",
          "height": 0
        },
        "id": "vNo8ZWczC2gH",
        "outputId": "e9ecc441-35c4-4fd6-95b0-deb9b6c5ca64"
      },
      "execution_count": 50,
      "outputs": [
        {
          "output_type": "stream",
          "name": "stdout",
          "text": [
            "Before have the someone the same college be introduce name Me Introduce are Hope hope hope you're hope you're hope you're describe countable these countable countable example we some non-countable illustrate the use the the describe countable these countable countable example we some non-countable illustrate the use the the telephone The the \n",
            "total num of words ending with'e': 52\n"
          ]
        }
      ]
    },
    {
      "cell_type": "markdown",
      "source": [
        "8. Write a function in Python to count uppercase character in a text file."
      ],
      "metadata": {
        "id": "8s2fnur_EPmw"
      }
    },
    {
      "cell_type": "code",
      "source": [
        "def count_UpperCase():\n",
        "  file = open(\"greet.txt\",\"r\")\n",
        "  lines = file.read()\n",
        "  cnt = 0\n",
        "  for ch in lines:\n",
        "    if ch.isupper():\n",
        "      cnt+=1\n",
        "  print(\"No of UpperCase Letters:\",cnt)\n",
        "\n",
        "  file.close()\n",
        "count_UpperCase()"
      ],
      "metadata": {
        "colab": {
          "base_uri": "https://localhost:8080/",
          "height": 0
        },
        "id": "_nlGRtbyD3-U",
        "outputId": "83fe63b0-3e2b-4fd1-a6ea-450866faadc9"
      },
      "execution_count": 49,
      "outputs": [
        {
          "output_type": "stream",
          "name": "stdout",
          "text": [
            "No of UpperCase Letters: 27\n"
          ]
        }
      ]
    },
    {
      "cell_type": "code",
      "source": [
        ""
      ],
      "metadata": {
        "id": "Wa6w3NjpFSXz"
      },
      "execution_count": null,
      "outputs": []
    }
  ]
}