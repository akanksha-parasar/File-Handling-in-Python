{
  "nbformat": 4,
  "nbformat_minor": 0,
  "metadata": {
    "colab": {
      "name": "NumpyExamples.ipynb",
      "provenance": [],
      "collapsed_sections": [],
      "authorship_tag": "ABX9TyOTSLGdi0l+VsQhXaW/d5vx",
      "include_colab_link": true
    },
    "kernelspec": {
      "name": "python3",
      "display_name": "Python 3"
    },
    "language_info": {
      "name": "python"
    }
  },
  "cells": [
    {
      "cell_type": "markdown",
      "metadata": {
        "id": "view-in-github",
        "colab_type": "text"
      },
      "source": [
        "<a href=\"https://colab.research.google.com/github/akanksha-parasar/File-Handling-in-Python/blob/main/NumpyExamples.ipynb\" target=\"_parent\"><img src=\"https://colab.research.google.com/assets/colab-badge.svg\" alt=\"Open In Colab\"/></a>"
      ]
    },
    {
      "cell_type": "markdown",
      "source": [
        "# Name:Akanksha Parasar\n",
        "\n",
        "# Prn:1132210166\n"
      ],
      "metadata": {
        "id": "3t-xdzHhXrac"
      }
    },
    {
      "cell_type": "markdown",
      "source": [
        "## Lab Session - 13"
      ],
      "metadata": {
        "id": "qJIxSIH3YIB1"
      }
    },
    {
      "cell_type": "markdown",
      "source": [
        "# 1. Consider this URL:\n",
        "# https://numpy.org/doc/stable/user/absolute_beginners.html ,\n",
        "# execute all the examples and write your observations."
      ],
      "metadata": {
        "id": "MO62ea9vYW0f"
      }
    },
    {
      "cell_type": "code",
      "execution_count": 1,
      "metadata": {
        "colab": {
          "base_uri": "https://localhost:8080/",
          "height": 0
        },
        "id": "9E2eOeu0XJDU",
        "outputId": "22afc0a0-74f3-4646-e6c6-b69989a09a2b"
      },
      "outputs": [
        {
          "output_type": "stream",
          "name": "stdout",
          "text": [
            "Requirement already satisfied: numpy in /usr/local/lib/python3.7/dist-packages (1.19.5)\n"
          ]
        }
      ],
      "source": [
        "!pip install numpy"
      ]
    },
    {
      "cell_type": "markdown",
      "source": [
        "Creation of arrays."
      ],
      "metadata": {
        "id": "Cn8k_u2qiCTp"
      }
    },
    {
      "cell_type": "code",
      "source": [
        "import numpy as np\n",
        "\n",
        "#np.array to crate array using numpy\n",
        "a = np.array([1,2,3,4,5,6])\n",
        "print(\"At position 0:\",a[0])\n",
        "b = np.array([[1,2,3,4,5],[6,7,8],[9,10]])\n",
        "print(\"At position 0:\",b[0])\n",
        "print(\"First element at pos 0:\",b[0][0])\n",
        "\n",
        "#np.zeros to create an array containing 0s\n",
        "ZeroArray = np.zeros(5)\n",
        "print(\"Array containing zeros:\",ZeroArray)\n",
        "\n",
        "#np.ones to create an array containing 1s\n",
        "OneArray = np.ones(5)\n",
        "print(\"Array containing ones:\",OneArray)\n",
        "\n",
        "#Creating empty array\n",
        "EmptyArray = np.empty(5)\n",
        "print(\"Empty Array:\",EmptyArray)#values may vary\n",
        "\n",
        "#Creating array with a range of values using np.arange\n",
        "RangeOfValues = np.arange(6)\n",
        "print(\"RangeOfValues:\",RangeOfValues)# print values in range 0 - (n-1)\n",
        "\n",
        "#To create array with evenly spaced numbers \n",
        "#first number, last number, and the step size\n",
        "InRange = np.arange(3,20,3)\n",
        "print(\"Evenly spaced numbers:\",InRange)\n",
        "\n",
        "# np.linspace() to create an array with values that are spaced linearly in a specified interval\n",
        "IntervalArray = np.linspace(0, 20, num=5)\n",
        "print(\"Array with interval:\",IntervalArray)\n",
        "\n",
        "#using dtype keyword to change the default datatype that is float\n",
        "x = np.ones(2, dtype=np.int64)\n",
        "print(x)\n",
        "\n",
        "\n",
        "\n",
        "\n",
        "\n"
      ],
      "metadata": {
        "colab": {
          "base_uri": "https://localhost:8080/",
          "height": 0
        },
        "id": "n2Qy4xmbZdEA",
        "outputId": "e9e3494b-8ce0-42e8-dd68-b0f81b6969b2"
      },
      "execution_count": 24,
      "outputs": [
        {
          "output_type": "stream",
          "name": "stdout",
          "text": [
            "At position 0: 1\n",
            "At position 0: [1, 2, 3, 4, 5]\n",
            "First element at pos 0: 1\n",
            "Array containing zeros: [0. 0. 0. 0. 0.]\n",
            "Array containing ones: [1. 1. 1. 1. 1.]\n",
            "Empty Array: [1. 1. 1. 1. 1.]\n",
            "RangeOfValues: [0 1 2 3 4 5]\n",
            "Evenly spaced numbers: [ 3  6  9 12 15 18]\n",
            "Array with interval: [ 0.  5. 10. 15. 20.]\n",
            "[1 1]\n"
          ]
        },
        {
          "output_type": "stream",
          "name": "stderr",
          "text": [
            "/usr/local/lib/python3.7/dist-packages/ipykernel_launcher.py:6: VisibleDeprecationWarning: Creating an ndarray from ragged nested sequences (which is a list-or-tuple of lists-or-tuples-or ndarrays with different lengths or shapes) is deprecated. If you meant to do this, you must specify 'dtype=object' when creating the ndarray\n",
            "  \n"
          ]
        }
      ]
    },
    {
      "cell_type": "markdown",
      "source": [
        "Adding, removing, and sorting elements"
      ],
      "metadata": {
        "id": "145hSGyYiHCd"
      }
    },
    {
      "cell_type": "code",
      "source": [
        "#Sorting \n",
        "OriginalArray = np.array([9,4,1,6,3,7,0,2,8,5])\n",
        "print(\"Original Array:\",OriginalArray)\n",
        "SortedArray = np.sort(OriginalArray)\n",
        "print(\"SortedArray\",SortedArray)\n",
        "\n",
        "dtype = [('name', 'S10'), ('height', float), ('age', int)]\n",
        "values = [('Achyut', 2.0, 13), ('Shipra', 1.9, 28),\n",
        "          ('Surbhi', 1.7, 28)]\n",
        "a = np.array(values, dtype=dtype)\n",
        "SortIt = np.sort(a, order='age')\n",
        "print(\"Sorted according to age:\",SortIt)\n",
        "\n",
        "#Sort by age, then height if ages are equal\n",
        "SortHeight = np.sort(a, order=['age', 'height'])\n",
        "print(\"Sorted according to age and height:\",SortHeight)\n",
        "\n",
        "#Lexsort\n",
        "surnames =    ('Hertz',    'Galilei', 'Hertz')\n",
        "first_names = ('Heinrich', 'Galileo', 'Gustav')\n",
        "ind = np.lexsort((first_names, surnames))\n",
        "print(\"LexSort example 1:\",ind)\n",
        "[surnames[i] + \", \" + first_names[i] for i in ind]\n",
        "\n",
        "a = [1,5,1,4,3,4,4] # First column\n",
        "b = [9,4,0,4,0,2,1] # Second column\n",
        "ind = np.lexsort((b,a)) # Sort by a, then by b\n",
        "print(\"LexSort example 2:\",ind)\n",
        "\n",
        "\n",
        "#argsort\n",
        "a = [1,5,1,4,3,4,4] # First column\n",
        "b = [9,4,0,4,0,2,1] # Second column\n",
        "print(\"Argsort Example1:\")\n",
        "[(a[i],b[i]) for i in np.argsort(a)]\n",
        "\n",
        "\n",
        "\n",
        "\n"
      ],
      "metadata": {
        "colab": {
          "base_uri": "https://localhost:8080/",
          "height": 0
        },
        "id": "7HAPVllWiJf7",
        "outputId": "51112a1a-c4e0-4782-a199-02af42f41b5e"
      },
      "execution_count": 44,
      "outputs": [
        {
          "output_type": "stream",
          "name": "stdout",
          "text": [
            "Original Array: [9 4 1 6 3 7 0 2 8 5]\n",
            "SortedArray [0 1 2 3 4 5 6 7 8 9]\n",
            "Sorted according to age: [(b'Achyut', 2. , 13) (b'Shipra', 1.9, 28) (b'Surbhi', 1.7, 28)]\n",
            "Sorted according to age and height: [(b'Achyut', 2. , 13) (b'Surbhi', 1.7, 28) (b'Shipra', 1.9, 28)]\n",
            "LexSort example 1: [1 2 0]\n",
            "LexSort example 2: [2 0 4 6 5 3 1]\n",
            "Argsort Example1:\n"
          ]
        },
        {
          "output_type": "execute_result",
          "data": {
            "text/plain": [
              "[(1, 9), (1, 0), (3, 0), (4, 4), (4, 2), (4, 1), (5, 4)]"
            ]
          },
          "metadata": {},
          "execution_count": 44
        }
      ]
    },
    {
      "cell_type": "code",
      "source": [
        "x = np.array([3, 1, 2])\n",
        "print(\"Argsort Example2:\",np.argsort(x))"
      ],
      "metadata": {
        "colab": {
          "base_uri": "https://localhost:8080/",
          "height": 0
        },
        "id": "Ib16IwPTohyE",
        "outputId": "4369a815-1e25-48f4-a850-5d6ef27be81e"
      },
      "execution_count": 46,
      "outputs": [
        {
          "output_type": "stream",
          "name": "stdout",
          "text": [
            "Argsort Example2: [1 2 0]\n"
          ]
        }
      ]
    },
    {
      "cell_type": "code",
      "source": [
        "#Partition sort\n",
        "a = np.array([3, 4, 2, 1])\n",
        "print(\"Partition sort:\",np.partition(a, 3))"
      ],
      "metadata": {
        "colab": {
          "base_uri": "https://localhost:8080/",
          "height": 0
        },
        "id": "t1kQD5Mno6co",
        "outputId": "ea348050-d38c-4ab0-c00f-ee3cbc24f8a0"
      },
      "execution_count": 54,
      "outputs": [
        {
          "output_type": "stream",
          "name": "stdout",
          "text": [
            "Partition sort: [2 1 3 4]\n"
          ]
        }
      ]
    },
    {
      "cell_type": "code",
      "source": [
        "#Searchsort\n",
        "print(\"Searchsort:\",np.searchsorted([1,2,3,4,5], 4))#returns index of searched element\n",
        "print(\"Searchsort:\",np.searchsorted([1,2,3,4,5], 1, side='right'))\n",
        "print(\"Searchsort:\",np.searchsorted([1,2,3,4,5], [-10, 10, 2, 3]))"
      ],
      "metadata": {
        "colab": {
          "base_uri": "https://localhost:8080/",
          "height": 0
        },
        "id": "IemBJ8RWqIKn",
        "outputId": "08573534-e66c-4821-fdc0-8b898ee11945"
      },
      "execution_count": 62,
      "outputs": [
        {
          "output_type": "stream",
          "name": "stdout",
          "text": [
            "Searchsort: 3\n",
            "Searchsort: 1\n",
            "Searchsort: [0 5 1 2]\n"
          ]
        }
      ]
    },
    {
      "cell_type": "code",
      "source": [
        "#Concatenate\n",
        "a1 = np.array([1, 2, 3, 4])\n",
        "a2 = np.array([5, 6, 7, 8])\n",
        "print(\"Concatenate1:\",np.concatenate((a, a2)))\n",
        "\n",
        "x1 = np.array([[1, 2], [3, 4]])\n",
        "x2 = np.array([[5, 6]])\n",
        "print(\"Concatenate2:\",np.concatenate((x1,x2), axis=0))\n"
      ],
      "metadata": {
        "colab": {
          "base_uri": "https://localhost:8080/",
          "height": 0
        },
        "id": "Igpl2fnArRu0",
        "outputId": "81b3ccbb-17b0-4012-a023-24473774f475"
      },
      "execution_count": 67,
      "outputs": [
        {
          "output_type": "stream",
          "name": "stdout",
          "text": [
            "Concatenate1: [3 4 2 1 5 6 7 8]\n",
            "Concatenate2: [[1 2]\n",
            " [3 4]\n",
            " [5 6]]\n"
          ]
        }
      ]
    },
    {
      "cell_type": "markdown",
      "source": [
        "Shape and size of an array"
      ],
      "metadata": {
        "id": "2TNbAOi-sjbd"
      }
    },
    {
      "cell_type": "code",
      "source": [
        "array_ex = np.array([[[0, 1, 2, 3],\n",
        "                           [4, 5, 6, 7]],\n",
        "\n",
        "                          [[0, 1, 2, 3],\n",
        "                           [4, 5, 6, 7]],\n",
        "\n",
        "                          [[0 ,1 ,2, 3],\n",
        "                           [4, 5, 6, 7]]])\n",
        "print(\"Dimensions of array:\",array_ex.ndim)\n",
        "print(\"Size of array:\",array_ex.size)\n",
        "print(\"Shape of array:\",array_ex.shape)\n"
      ],
      "metadata": {
        "colab": {
          "base_uri": "https://localhost:8080/",
          "height": 0
        },
        "id": "g2Kd1FtNsund",
        "outputId": "4e6c4046-13b9-47ba-b9c0-9df21687680f"
      },
      "execution_count": 70,
      "outputs": [
        {
          "output_type": "stream",
          "name": "stdout",
          "text": [
            "Dimensions of array: 3\n",
            "Size of array: 24\n",
            "Shape of array: (3, 2, 4)\n"
          ]
        }
      ]
    },
    {
      "cell_type": "code",
      "source": [
        "d = np.arange(6)\n",
        "print(d)\n",
        "dd = d.reshape(3, 2)\n",
        "print(\"Reshaped1:\",dd)\n",
        "dd = d.reshape(2, 3)\n",
        "print(\"Reshaped2:\",dd)\n"
      ],
      "metadata": {
        "colab": {
          "base_uri": "https://localhost:8080/",
          "height": 0
        },
        "id": "-vBqd92st2sV",
        "outputId": "444b9933-9bd8-46b0-951c-5f732a692c0d"
      },
      "execution_count": 72,
      "outputs": [
        {
          "output_type": "stream",
          "name": "stdout",
          "text": [
            "[0 1 2 3 4 5]\n",
            "Reshaped1: [[0 1]\n",
            " [2 3]\n",
            " [4 5]]\n",
            "Reshaped2: [[0 1 2]\n",
            " [3 4 5]]\n"
          ]
        }
      ]
    },
    {
      "cell_type": "markdown",
      "source": [
        "Convert a 1D array into a 2D array"
      ],
      "metadata": {
        "id": "LX7xKL-av_NS"
      }
    },
    {
      "cell_type": "code",
      "source": [
        "e = np.array([1, 2, 3, 4, 5, 6])\n",
        "print(e.shape)\n",
        "e2 = e[np.newaxis, :]\n",
        "print(e2.shape)\n",
        "\n",
        "#for row \n",
        "row_vector = a[np.newaxis, :]\n",
        "print(\"Axis along the first dimension\",row_vector.shape)\n",
        "#for column\n",
        "col_vector = a[:, np.newaxis]\n",
        "print(\"Axis along the second dimension\",col_vector.shape)"
      ],
      "metadata": {
        "colab": {
          "base_uri": "https://localhost:8080/",
          "height": 0
        },
        "id": "c3Hhp1p0t10H",
        "outputId": "5563f0ec-81cf-497e-91c7-54b36f89c73e"
      },
      "execution_count": 77,
      "outputs": [
        {
          "output_type": "stream",
          "name": "stdout",
          "text": [
            "(6,)\n",
            "(1, 6)\n",
            "Axis along the first dimension (1, 6)\n",
            "Axis along the second dimension (6, 1)\n"
          ]
        }
      ]
    },
    {
      "cell_type": "markdown",
      "source": [
        "Indexing and slicing"
      ],
      "metadata": {
        "id": "N0m3xMy5ywG5"
      }
    },
    {
      "cell_type": "code",
      "source": [
        "data = np.array([1, 2, 3])\n",
        "print(data[0])\n",
        "print(data[0:2])\n",
        "print(data[1:])\n",
        "print(data[-2:])\n"
      ],
      "metadata": {
        "colab": {
          "base_uri": "https://localhost:8080/",
          "height": 0
        },
        "id": "wmfN8STYy3_P",
        "outputId": "028ccd29-e528-43e5-b391-6940b1a0f0a9"
      },
      "execution_count": 83,
      "outputs": [
        {
          "output_type": "stream",
          "name": "stdout",
          "text": [
            "1\n",
            "[1 2]\n",
            "[2 3]\n",
            "[2 3]\n"
          ]
        }
      ]
    },
    {
      "cell_type": "code",
      "source": [
        "a = np.array([[1 , 2, 3, 4], [5, 6, 7, 8], [9, 10, 11, 12]])\n",
        "print(a[a < 7])#prints values less than7\n",
        "five_up = (a >= 5)\n",
        "print(a[five_up])#prints values greater than 5\n",
        "divisible_by_2 = a[a%2==0]\n",
        "print(divisible_by_2)#print values divisible by 2\n",
        "c = a[(a > 2) & (a < 11)]#2 conditions\n",
        "print(c)#prints values greater than 2 and less than 11\n",
        "five_up = (a > 5) | (a == 5)#use of | or \n",
        "print(five_up)#prints values greater than 5 or equal to 5"
      ],
      "metadata": {
        "colab": {
          "base_uri": "https://localhost:8080/",
          "height": 0
        },
        "id": "ApuB1es6zIEl",
        "outputId": "036453da-1fd2-4c35-973c-88cb0c9fbefa"
      },
      "execution_count": 89,
      "outputs": [
        {
          "output_type": "stream",
          "name": "stdout",
          "text": [
            "[1 2 3 4 5 6]\n",
            "[ 5  6  7  8  9 10 11 12]\n",
            "[ 2  4  6  8 10 12]\n",
            "[ 3  4  5  6  7  8  9 10]\n",
            "[[False False False False]\n",
            " [ True  True  True  True]\n",
            " [ True  True  True  True]]\n"
          ]
        }
      ]
    },
    {
      "cell_type": "code",
      "source": [
        "#Use of np.nonzero()\n",
        "a = np.array([[1, 2, 3, 4], [5, 6, 7, 8], [9, 10, 11, 12]])\n",
        "b = np.nonzero(a < 5)\n",
        "print(b)\n",
        "print(\"elements in an array that are less than 5\",a[b])"
      ],
      "metadata": {
        "colab": {
          "base_uri": "https://localhost:8080/",
          "height": 0
        },
        "id": "Ilr1SvBg05Se",
        "outputId": "3e1028b5-6826-4d48-bbcb-cb182aee6101"
      },
      "execution_count": 93,
      "outputs": [
        {
          "output_type": "stream",
          "name": "stdout",
          "text": [
            "(array([0, 0, 0, 0]), array([0, 1, 2, 3]))\n",
            "elements in an array that are less than 5 [1 2 3 4]\n"
          ]
        }
      ]
    },
    {
      "cell_type": "code",
      "source": [
        "list_of_coordinates= list(zip(b[0], b[1]))\n",
        "\n",
        "for coord in list_of_coordinates:\n",
        "    print(coord)"
      ],
      "metadata": {
        "colab": {
          "base_uri": "https://localhost:8080/",
          "height": 0
        },
        "id": "4kOom9cL1O1X",
        "outputId": "ba62dc3b-6b64-4f57-88c3-cd909ca9dad7"
      },
      "execution_count": 91,
      "outputs": [
        {
          "output_type": "stream",
          "name": "stdout",
          "text": [
            "(0, 0)\n",
            "(0, 1)\n",
            "(0, 2)\n",
            "(0, 3)\n"
          ]
        }
      ]
    },
    {
      "cell_type": "markdown",
      "source": [
        "Create an array from existing data"
      ],
      "metadata": {
        "id": "CebNjqt82Fcd"
      }
    },
    {
      "cell_type": "code",
      "source": [
        "a = np.array([1,  2,  3,  4,  5,  6,  7,  8,  9, 10])\n",
        "arr1 = a[3:8]\n",
        "print(\"New Array:\",arr1)"
      ],
      "metadata": {
        "colab": {
          "base_uri": "https://localhost:8080/",
          "height": 0
        },
        "id": "a47Kuq_O2Pvb",
        "outputId": "c818c50f-af01-4661-f942-a62fbe6e5723"
      },
      "execution_count": 94,
      "outputs": [
        {
          "output_type": "stream",
          "name": "stdout",
          "text": [
            "New Array: [4 5 6 7 8]\n"
          ]
        }
      ]
    },
    {
      "cell_type": "markdown",
      "source": [
        "Stacking of arrays"
      ],
      "metadata": {
        "id": "AU8jljLW2hIC"
      }
    },
    {
      "cell_type": "code",
      "source": [
        "#stack vertically with vstack\n",
        "a1 = np.array([[1, 1],\n",
        "               [2, 2]])\n",
        "\n",
        "a2 = np.array([[3, 3],\n",
        "               [4, 4]])\n",
        "print(\"Stacked up vertically:\",np.vstack((a1, a2)))\n",
        "\n",
        "#stack horizontally with hstack\n",
        "print(\"Stacked up horizontally:\",np.hstack((a1, a2)))"
      ],
      "metadata": {
        "colab": {
          "base_uri": "https://localhost:8080/",
          "height": 0
        },
        "id": "vsCT1oRp2leG",
        "outputId": "30cf0928-60bf-4820-d7c9-d1c21ce976dd"
      },
      "execution_count": 98,
      "outputs": [
        {
          "output_type": "stream",
          "name": "stdout",
          "text": [
            "Stacked up vertically: [[1 1]\n",
            " [2 2]\n",
            " [3 3]\n",
            " [4 4]]\n",
            "Stacked up horizontally: [[1 1 3 3]\n",
            " [2 2 4 4]]\n"
          ]
        }
      ]
    },
    {
      "cell_type": "code",
      "source": [
        "#split an array into several smaller arrays using hsplit\n",
        "x = np.arange(1, 25).reshape(2, 12)\n",
        "print(\"Array:\",x)\n",
        "print(\"Split :\",np.hsplit(x, 3))#splits the array in 3 equal parts\n",
        "print(\"Split :\",np.hsplit(x, (3, 4)))#splits array after the third and fourth column"
      ],
      "metadata": {
        "colab": {
          "base_uri": "https://localhost:8080/",
          "height": 0
        },
        "id": "hmMmLyOq3R0T",
        "outputId": "e67a8104-e58e-4361-f57f-c2d4a576d236"
      },
      "execution_count": 101,
      "outputs": [
        {
          "output_type": "stream",
          "name": "stdout",
          "text": [
            "Array: [[ 1  2  3  4  5  6  7  8  9 10 11 12]\n",
            " [13 14 15 16 17 18 19 20 21 22 23 24]]\n",
            "Split : [array([[ 1,  2,  3,  4],\n",
            "       [13, 14, 15, 16]]), array([[ 5,  6,  7,  8],\n",
            "       [17, 18, 19, 20]]), array([[ 9, 10, 11, 12],\n",
            "       [21, 22, 23, 24]])]\n",
            "Split : [array([[ 1,  2,  3],\n",
            "       [13, 14, 15]]), array([[ 4],\n",
            "       [16]]), array([[ 5,  6,  7,  8,  9, 10, 11, 12],\n",
            "       [17, 18, 19, 20, 21, 22, 23, 24]])]\n"
          ]
        }
      ]
    },
    {
      "cell_type": "code",
      "source": [
        "a = np.array([[1, 2, 3, 4], [5, 6, 7, 8], [9, 10, 11, 12]])\n",
        "b1 = a[0, :]\n",
        "print(b1)\n",
        "b1[0] = 99 #Modifies first element of b1\n",
        "print(b1)\n",
        "\n",
        "#copy\n",
        "b2 = a.copy()\n",
        "print(b2)"
      ],
      "metadata": {
        "colab": {
          "base_uri": "https://localhost:8080/",
          "height": 0
        },
        "id": "jlpImhDr4Eby",
        "outputId": "5403adf1-e663-43d7-eb85-9b3b559f3c8f"
      },
      "execution_count": 104,
      "outputs": [
        {
          "output_type": "stream",
          "name": "stdout",
          "text": [
            "[1 2 3 4]\n",
            "[99  2  3  4]\n",
            "[[99  2  3  4]\n",
            " [ 5  6  7  8]\n",
            " [ 9 10 11 12]]\n"
          ]
        }
      ]
    },
    {
      "cell_type": "markdown",
      "source": [
        "Basic array operations"
      ],
      "metadata": {
        "id": "6C-ZWc8944dG"
      }
    },
    {
      "cell_type": "code",
      "source": [
        "data = np.array([1, 2])\n",
        "print(data)\n",
        "ones = np.ones(2, dtype=int)\n",
        "print(ones)\n",
        "print(\"Add:\",data + ones)\n",
        "print(\"Product:\",data * ones)\n",
        "print(\"Sub:\",data - ones)\n",
        "print(\"Divide:\",data / data)\n"
      ],
      "metadata": {
        "colab": {
          "base_uri": "https://localhost:8080/",
          "height": 0
        },
        "id": "KDSsk1jN5DQq",
        "outputId": "f339c371-9bfa-453b-ab9c-14322685434c"
      },
      "execution_count": 110,
      "outputs": [
        {
          "output_type": "stream",
          "name": "stdout",
          "text": [
            "[1 2]\n",
            "[1 1]\n",
            "Add: [2 3]\n",
            "Product: [1 2]\n",
            "Sub: [0 1]\n",
            "Divide: [1. 1.]\n"
          ]
        }
      ]
    },
    {
      "cell_type": "code",
      "source": [
        "#sum()\n",
        "a = np.array([1, 2, 3, 4])\n",
        "\n",
        "print(\"Sum is :\",a.sum())\n"
      ],
      "metadata": {
        "colab": {
          "base_uri": "https://localhost:8080/",
          "height": 0
        },
        "id": "UQzoETAb5xfs",
        "outputId": "da7c2d06-adba-4f69-956a-14f79566755f"
      },
      "execution_count": 111,
      "outputs": [
        {
          "output_type": "stream",
          "name": "stdout",
          "text": [
            "Sum is : 10\n"
          ]
        }
      ]
    },
    {
      "cell_type": "code",
      "source": [
        "b = np.array([[1, 1], [2, 2]])\n",
        "print(b.sum(axis=0))\n",
        "print(b.sum(axis=1))\n"
      ],
      "metadata": {
        "colab": {
          "base_uri": "https://localhost:8080/",
          "height": 0
        },
        "id": "JLv6Wjvn5-V6",
        "outputId": "633f7a34-31d1-4cba-f912-4131bd26ca1d"
      },
      "execution_count": 116,
      "outputs": [
        {
          "output_type": "stream",
          "name": "stdout",
          "text": [
            "[3 3]\n",
            "[2 4]\n"
          ]
        }
      ]
    },
    {
      "cell_type": "markdown",
      "source": [
        "Broadcasting"
      ],
      "metadata": {
        "id": "8IFvdUh66gF7"
      }
    },
    {
      "cell_type": "code",
      "source": [
        "data = np.array([1.0, 2.0])\n",
        "print(\"Multiply whole array with 1.5:\",data*1.5)"
      ],
      "metadata": {
        "colab": {
          "base_uri": "https://localhost:8080/",
          "height": 0
        },
        "id": "cy3iFWtf6jFz",
        "outputId": "3a07ad9f-f8cf-422b-8896-4940f7c1a378"
      },
      "execution_count": 117,
      "outputs": [
        {
          "output_type": "stream",
          "name": "stdout",
          "text": [
            "Multiply whole array with 1.5: [1.5 3. ]\n"
          ]
        }
      ]
    },
    {
      "cell_type": "markdown",
      "source": [
        "More useful array operations"
      ],
      "metadata": {
        "id": "pZYXqIla606x"
      }
    },
    {
      "cell_type": "code",
      "source": [
        "data = np.array([1.0, 2.0])\n",
        "print(\"Max:\",data.max())\n",
        "print(\"Min:\",data.min())\n",
        "print(\"Sum:\",data.sum())"
      ],
      "metadata": {
        "colab": {
          "base_uri": "https://localhost:8080/",
          "height": 0
        },
        "id": "xqNGMMYM62yR",
        "outputId": "282c7ff4-29b4-4276-c7f2-3c1ddde31a48"
      },
      "execution_count": 119,
      "outputs": [
        {
          "output_type": "stream",
          "name": "stdout",
          "text": [
            "Max: 2.0\n",
            "Min: 1.0\n",
            "Sum: 3.0\n"
          ]
        }
      ]
    },
    {
      "cell_type": "markdown",
      "source": [
        "Creating matrices"
      ],
      "metadata": {
        "id": "wRukTCj67NeA"
      }
    },
    {
      "cell_type": "code",
      "source": [
        "data = np.array([[1, 2], [3, 4], [5, 6]])\n",
        "print(\"Matrix:\",data)\n",
        "#Indexing and slicing operations\n",
        "print(data[0, 1])\n",
        "print(data[1:3])\n",
        "print(data[0:2, 0])\n",
        "\n",
        "data = np.array([[1, 2], [3, 4]])\n",
        "ones = np.array([[1, 1], [1, 1]])\n",
        "print(\"Sum:\",data + ones)"
      ],
      "metadata": {
        "colab": {
          "base_uri": "https://localhost:8080/",
          "height": 0
        },
        "id": "VArhKXch7Tbs",
        "outputId": "c4a64a67-d37f-46da-9888-ec4aa56fe89f"
      },
      "execution_count": 123,
      "outputs": [
        {
          "output_type": "stream",
          "name": "stdout",
          "text": [
            "Matrix: [[1 2]\n",
            " [3 4]\n",
            " [5 6]]\n",
            "2\n",
            "[[3 4]\n",
            " [5 6]]\n",
            "[1 3]\n",
            "Sum: [[2 3]\n",
            " [4 5]]\n"
          ]
        }
      ]
    },
    {
      "cell_type": "code",
      "source": [
        "print(np.ones((4, 3, 2)))\n",
        "#initializing\n",
        "print(\"initialize to 1:\",np.ones(3))\n",
        "print(\"initialize to 0:\",np.zeros(3))\n",
        "# the simplest way to generate random numbers\n",
        "rng = np.random.default_rng(0)\n",
        "print(\"Random :\",rng.random(3))"
      ],
      "metadata": {
        "colab": {
          "base_uri": "https://localhost:8080/",
          "height": 0
        },
        "id": "12GRRY5q8ix4",
        "outputId": "39dbe9db-c692-4aea-e9de-fae27eff4809"
      },
      "execution_count": 128,
      "outputs": [
        {
          "output_type": "stream",
          "name": "stdout",
          "text": [
            "[[[1. 1.]\n",
            "  [1. 1.]\n",
            "  [1. 1.]]\n",
            "\n",
            " [[1. 1.]\n",
            "  [1. 1.]\n",
            "  [1. 1.]]\n",
            "\n",
            " [[1. 1.]\n",
            "  [1. 1.]\n",
            "  [1. 1.]]\n",
            "\n",
            " [[1. 1.]\n",
            "  [1. 1.]\n",
            "  [1. 1.]]]\n",
            "initialize to 1: [1. 1. 1.]\n",
            "initialize to 0: [0. 0. 0.]\n",
            "Random : [0.63696169 0.26978671 0.04097352]\n"
          ]
        }
      ]
    },
    {
      "cell_type": "markdown",
      "source": [
        "Generating random numbers"
      ],
      "metadata": {
        "id": "_CVsb9_19TwL"
      }
    },
    {
      "cell_type": "code",
      "source": [
        "print(\"Generate Random:\",rng.integers(5, size=(2, 4)))\n",
        "#np.unique to print the unique values\n",
        "a = np.array([11, 11, 12, 13, 14, 15, 16, 17, 12, 13, 11, 14, 18, 19, 20])\n",
        "unique_values = np.unique(a)\n",
        "print(\"Unique Values:\",unique_values)\n",
        "\n",
        "unique_values, indices_list = np.unique(a, return_index=True)\n",
        "print(\"indices of unique values:\",indices_list)\n",
        "\n",
        "unique_values, occurrence_count = np.unique(a, return_counts=True)\n",
        "print(\"occurrence_count\",occurrence_count)#to get the frequency count of unique values\n",
        "\n",
        "# unique in arrays\n",
        "a_2d = np.array([[1, 2, 3, 4], [5, 6, 7, 8], [9, 10, 11, 12], [1, 2, 3, 4]])\n",
        "unique_values = np.unique(a_2d)\n",
        "print(\"Unique Values:\",unique_values)\n",
        "unique_rows = np.unique(a_2d, axis=0)\n",
        "print(\"Unique rows:\",unique_rows)"
      ],
      "metadata": {
        "colab": {
          "base_uri": "https://localhost:8080/",
          "height": 0
        },
        "id": "_EJ9TtQY9Y3-",
        "outputId": "1dea4c9c-ba25-46ad-d91b-1df2462a95da"
      },
      "execution_count": 137,
      "outputs": [
        {
          "output_type": "stream",
          "name": "stdout",
          "text": [
            "Generate Random: [[1 1 2 2]\n",
            " [3 4 0 4]]\n",
            "Unique Values: [11 12 13 14 15 16 17 18 19 20]\n",
            "indices of unique values: [ 0  2  3  4  5  6  7 12 13 14]\n",
            "occurrence_count [3 2 2 2 1 1 1 1 1 1]\n",
            "Unique Values: [ 1  2  3  4  5  6  7  8  9 10 11 12]\n",
            "Unique rows: [[ 1  2  3  4]\n",
            " [ 5  6  7  8]\n",
            " [ 9 10 11 12]]\n"
          ]
        }
      ]
    },
    {
      "cell_type": "markdown",
      "source": [
        "Transposing and reshaping a matrix"
      ],
      "metadata": {
        "id": "iiibUsndA1wy"
      }
    },
    {
      "cell_type": "code",
      "source": [
        "#Reshaping\n",
        "arr = np.arange(6).reshape((2, 3))\n",
        "print(\"Array is:\",arr)\n",
        "print(\"Transpose:\",arr.transpose())\n",
        "print(\"Transpose:\",arr.T)"
      ],
      "metadata": {
        "colab": {
          "base_uri": "https://localhost:8080/",
          "height": 0
        },
        "id": "SDV4qP9qBDB0",
        "outputId": "48a4fb80-e6f0-4878-f729-fb9222efe8e0"
      },
      "execution_count": 140,
      "outputs": [
        {
          "output_type": "stream",
          "name": "stdout",
          "text": [
            "Array is: [[0 1 2]\n",
            " [3 4 5]]\n",
            "Transpose: [[0 3]\n",
            " [1 4]\n",
            " [2 5]]\n",
            "Transpose: [[0 3]\n",
            " [1 4]\n",
            " [2 5]]\n"
          ]
        }
      ]
    },
    {
      "cell_type": "markdown",
      "source": [
        "How to reverse an array"
      ],
      "metadata": {
        "id": "mm6eh327BngU"
      }
    },
    {
      "cell_type": "code",
      "source": [
        "arr = np.array([1, 2, 3, 4, 5, 6, 7, 8])\n",
        "print(\"original array:\",arr)\n",
        "reversed_arr = np.flip(arr)\n",
        "print(\"Reversed Array: \", reversed_arr)\n",
        "\n",
        "#Reversing a 2D array\n",
        "arr_2d = np.array([[1, 2, 3, 4], [5, 6, 7, 8], [9, 10, 11, 12]])\n",
        "reversed_arr = np.flip(arr_2d)\n",
        "print(\"Reversed 2d Array: \",reversed_arr)\n",
        "\n",
        "#Reversing  all row\n",
        "reversed_arr_rows = np.flip(arr_2d, axis=0)\n",
        "print(\"Reversing row:\",reversed_arr_rows)\n",
        "##Reversing  all column\n",
        "reversed_arr_columns = np.flip(arr_2d, axis=1)\n",
        "print(\"Reversing column:\",reversed_arr_columns)\n",
        "#Reversing   row 1\n",
        "arr_2d[1] = np.flip(arr_2d[1])\n",
        "print(\"Reversing row 1:\",arr_2d)\n",
        "#Reversing   column 1\n",
        "arr_2d[:,1] = np.flip(arr_2d[:,1])\n",
        "print(\"Reversing column 1:\",arr_2d)"
      ],
      "metadata": {
        "colab": {
          "base_uri": "https://localhost:8080/",
          "height": 0
        },
        "id": "ILAvP2QsBuD0",
        "outputId": "52d38304-e979-4700-bf5a-639cab116ac2"
      },
      "execution_count": 148,
      "outputs": [
        {
          "output_type": "stream",
          "name": "stdout",
          "text": [
            "original array: [1 2 3 4 5 6 7 8]\n",
            "Reversed Array:  [8 7 6 5 4 3 2 1]\n",
            "Reversed 2d Array:  [[12 11 10  9]\n",
            " [ 8  7  6  5]\n",
            " [ 4  3  2  1]]\n",
            "Reversing row: [[ 9 10 11 12]\n",
            " [ 5  6  7  8]\n",
            " [ 1  2  3  4]]\n",
            "Reversing column: [[ 4  3  2  1]\n",
            " [ 8  7  6  5]\n",
            " [12 11 10  9]]\n",
            "Reversing row 1: [[ 1  2  3  4]\n",
            " [ 8  7  6  5]\n",
            " [ 9 10 11 12]]\n",
            "Reversing column 1: [[ 1 10  3  4]\n",
            " [ 8  7  6  5]\n",
            " [ 9  2 11 12]]\n"
          ]
        }
      ]
    },
    {
      "cell_type": "markdown",
      "source": [
        "Reshaping and flattening multidimensional arrays"
      ],
      "metadata": {
        "id": "dABz_pDdDF8Y"
      }
    },
    {
      "cell_type": "code",
      "source": [
        "x = np.array([[1 , 2, 3, 4], [5, 6, 7, 8], [9, 10, 11, 12]])\n",
        "print(\"Flatten:\",x.flatten())\n",
        "#When we use flatten, changes to our new array won’t change the parent array\n",
        "a1 = x.flatten()\n",
        "a1[0] = 99\n",
        "print(\"Original array;\",x)  \n",
        "print(\"New array:\",a1)  \n",
        "#But when we use ravel, the changes we make to the new array will affect the parent array\n",
        "a2 = x.ravel()\n",
        "a2[0] = 98\n",
        "print(\"Original array;\",x)  \n",
        "print(\"New array:\",a2)"
      ],
      "metadata": {
        "colab": {
          "base_uri": "https://localhost:8080/",
          "height": 0
        },
        "id": "6tPGkEHRDQOk",
        "outputId": "1bc0b7ed-2027-4b4f-c546-eb6ab9921b21"
      },
      "execution_count": 151,
      "outputs": [
        {
          "output_type": "stream",
          "name": "stdout",
          "text": [
            "Flatten: [ 1  2  3  4  5  6  7  8  9 10 11 12]\n",
            "Original array; [[ 1  2  3  4]\n",
            " [ 5  6  7  8]\n",
            " [ 9 10 11 12]]\n",
            "New array: [99  2  3  4  5  6  7  8  9 10 11 12]\n",
            "Original array; [[98  2  3  4]\n",
            " [ 5  6  7  8]\n",
            " [ 9 10 11 12]]\n",
            "New array: [98  2  3  4  5  6  7  8  9 10 11 12]\n"
          ]
        }
      ]
    },
    {
      "cell_type": "markdown",
      "source": [
        "How to access the docstring for more information"
      ],
      "metadata": {
        "id": "Am5dOpw3Eav7"
      }
    },
    {
      "cell_type": "code",
      "source": [
        "help(max)"
      ],
      "metadata": {
        "colab": {
          "base_uri": "https://localhost:8080/",
          "height": 0
        },
        "id": "B9Okxs8-Eejs",
        "outputId": "45d46616-72a5-4ce6-b7e9-3ab42bcda17c"
      },
      "execution_count": 152,
      "outputs": [
        {
          "output_type": "stream",
          "name": "stdout",
          "text": [
            "Help on built-in function max in module builtins:\n",
            "\n",
            "max(...)\n",
            "    max(iterable, *[, default=obj, key=func]) -> value\n",
            "    max(arg1, arg2, *args, *[, key=func]) -> value\n",
            "    \n",
            "    With a single iterable argument, return its biggest item. The\n",
            "    default keyword-only argument specifies an object to return if\n",
            "    the provided iterable is empty.\n",
            "    With two or more arguments, return the largest argument.\n",
            "\n"
          ]
        }
      ]
    },
    {
      "cell_type": "code",
      "source": [
        "a = np.array([1, 2, 3, 4, 5, 6])\n",
        "a?\n",
        "# Type:            ndarray\n",
        "String form:     [1 2 3 4 5 6]\n",
        "Length:          6\n",
        "File:            /usr/local/lib/python3.7/dist-packages/numpy/__init__.py\n",
        "Docstring:       <no docstring>\n",
        "Class docstring:\n",
        "ndarray(shape, dtype=float, buffer=None, offset=0,\n",
        "        strides=None, order=None)"
      ],
      "metadata": {
        "id": "CyDsCneKEqkJ"
      },
      "execution_count": 153,
      "outputs": []
    },
    {
      "cell_type": "markdown",
      "source": [
        "How to save and load NumPy objects"
      ],
      "metadata": {
        "id": "e4u_sIxfE-jt"
      }
    },
    {
      "cell_type": "code",
      "source": [
        "a = np.array([1, 2, 3, 4, 5, 6])\n",
        "np.save('filename', a)\n",
        "#np.load() to reconstruct your array\n",
        "b = np.load('filename.npy')\n",
        "print(b)\n",
        "csv_arr = np.array([1, 2, 3, 4, 5, 6, 7, 8])\n",
        "np.savetxt('new_file.csv', csv_arr)\n",
        "np.loadtxt('new_file.csv')"
      ],
      "metadata": {
        "colab": {
          "base_uri": "https://localhost:8080/",
          "height": 0
        },
        "id": "iMOYNqPLE413",
        "outputId": "01e1a02c-af54-45d0-8d12-9a3bacbfb2f1"
      },
      "execution_count": 157,
      "outputs": [
        {
          "output_type": "stream",
          "name": "stdout",
          "text": [
            "[1 2 3 4 5 6]\n"
          ]
        },
        {
          "output_type": "execute_result",
          "data": {
            "text/plain": [
              "array([1., 2., 3., 4., 5., 6., 7., 8.])"
            ]
          },
          "metadata": {},
          "execution_count": 157
        }
      ]
    },
    {
      "cell_type": "markdown",
      "source": [
        "## 2. Consider this url : https://pythonexamples.org/numpy/, execute\n",
        "# all the examples related to numpy. Write your observations."
      ],
      "metadata": {
        "id": "1q9d4kFCGkrI"
      }
    },
    {
      "cell_type": "markdown",
      "source": [
        "Create One Dimensional Numpy Array"
      ],
      "metadata": {
        "id": "iJ2O5j9PIXdW"
      }
    },
    {
      "cell_type": "code",
      "source": [
        "#using array()\n",
        "a = np.array([5, 8, 12])\n",
        "print(a)"
      ],
      "metadata": {
        "colab": {
          "base_uri": "https://localhost:8080/",
          "height": 0
        },
        "id": "xxh-5hcBKOrP",
        "outputId": "86b7f7a2-77ce-4e5b-8161-2e56251200d6"
      },
      "execution_count": 158,
      "outputs": [
        {
          "output_type": "stream",
          "name": "stdout",
          "text": [
            "[ 5  8 12]\n"
          ]
        }
      ]
    },
    {
      "cell_type": "code",
      "source": [
        "#using arange()\n",
        "a = np.arange(5, 14, 2)\n",
        "print(a)"
      ],
      "metadata": {
        "colab": {
          "base_uri": "https://localhost:8080/",
          "height": 0
        },
        "id": "YilLHBL-KtLc",
        "outputId": "ba58f391-48ff-4282-d217-8389f5cf64fd"
      },
      "execution_count": 160,
      "outputs": [
        {
          "output_type": "stream",
          "name": "stdout",
          "text": [
            "[ 5  7  9 11 13]\n"
          ]
        }
      ]
    },
    {
      "cell_type": "code",
      "source": [
        "#using linspace()\n",
        "a = np.linspace(5, 25, 4)\n",
        "print(a)"
      ],
      "metadata": {
        "colab": {
          "base_uri": "https://localhost:8080/",
          "height": 0
        },
        "id": "y4mcT3AaLYqN",
        "outputId": "fd51f370-4194-4d18-dfb5-a21082b52539"
      },
      "execution_count": 161,
      "outputs": [
        {
          "output_type": "stream",
          "name": "stdout",
          "text": [
            "[ 5.         11.66666667 18.33333333 25.        ]\n"
          ]
        }
      ]
    },
    {
      "cell_type": "markdown",
      "source": [
        "2.Create Numpy Array with Random Values – numpy.random.rand()\n"
      ],
      "metadata": {
        "id": "9JSTV0PdXo2s"
      }
    },
    {
      "cell_type": "code",
      "source": [
        "#Create One-Dimensional Numpy Array with Random Values\n",
        "a = np.random.rand(7)\n",
        "\n",
        "print(a)"
      ],
      "metadata": {
        "colab": {
          "base_uri": "https://localhost:8080/",
          "height": 0
        },
        "id": "ZDQ91CApL_SU",
        "outputId": "dca64074-993f-4260-ca4c-2235fe2c5ccf"
      },
      "execution_count": 162,
      "outputs": [
        {
          "output_type": "stream",
          "name": "stdout",
          "text": [
            "[0.93393263 0.11646775 0.16069037 0.63473309 0.19940644 0.80287604\n",
            " 0.11068803]\n"
          ]
        }
      ]
    },
    {
      "cell_type": "code",
      "source": [
        "#Create Two-Dimensional Numpy Array with Random Values\n",
        "a = np.random.rand(2,4)\n",
        "\n",
        "print(a)"
      ],
      "metadata": {
        "colab": {
          "base_uri": "https://localhost:8080/",
          "height": 0
        },
        "id": "n8_D_zr1MJhc",
        "outputId": "a1af1609-6a33-4558-b7c6-a6ea5b8257ca"
      },
      "execution_count": 163,
      "outputs": [
        {
          "output_type": "stream",
          "name": "stdout",
          "text": [
            "[[0.52003619 0.96358107 0.36691193 0.74771831]\n",
            " [0.80162019 0.19560655 0.99198052 0.50375891]]\n"
          ]
        }
      ]
    },
    {
      "cell_type": "markdown",
      "source": [
        "3. Save Array to File and Load Array from File"
      ],
      "metadata": {
        "id": "W6Q9e3g_MnxD"
      }
    },
    {
      "cell_type": "code",
      "source": [
        "#initialize array\n",
        "arr = np.array([[[11, 11, 9, 9],\n",
        "                  [11, 0, 2, 0]\n",
        "\t\t\t\t ],\n",
        "\t             [[10, 14, 9, 14],\n",
        "                  [0, 1, 11, 11]]])\n",
        "\n",
        "# open  binary file in write mode\n",
        "file = open(\"arr\", \"wb\")\n",
        "# save array to the file\n",
        "np.save(file, arr)\n",
        "# close the file\n",
        "file.close\n",
        "# open the file in read binary mode\n",
        "file = open(\"arr\", \"rb\")\n",
        "#read the file to numpy array\n",
        "arr1 = np.load(file)\n",
        "#close the file\n",
        "print(arr1)"
      ],
      "metadata": {
        "colab": {
          "base_uri": "https://localhost:8080/",
          "height": 0
        },
        "id": "A32r136_MwW2",
        "outputId": "3d100f21-f83b-447f-fabd-689bcee49ff0"
      },
      "execution_count": 165,
      "outputs": [
        {
          "output_type": "stream",
          "name": "stdout",
          "text": [
            "[[[11 11  9  9]\n",
            "  [11  0  2  0]]\n",
            "\n",
            " [[10 14  9 14]\n",
            "  [ 0  1 11 11]]]\n"
          ]
        }
      ]
    },
    {
      "cell_type": "markdown",
      "source": [
        "4.Numpy Array with Zeros – numpy.zeros()"
      ],
      "metadata": {
        "id": "eEJYMxS8NEsR"
      }
    },
    {
      "cell_type": "code",
      "source": [
        "# Python Numpy Zeros Array – One Dimensional\n",
        "a = np.zeros(8)\n",
        "print(a)"
      ],
      "metadata": {
        "colab": {
          "base_uri": "https://localhost:8080/",
          "height": 0
        },
        "id": "qyW4a1NbNMng",
        "outputId": "40e1e054-a13d-40a5-8102-c29bd48722aa"
      },
      "execution_count": 166,
      "outputs": [
        {
          "output_type": "stream",
          "name": "stdout",
          "text": [
            "[0. 0. 0. 0. 0. 0. 0. 0.]\n"
          ]
        }
      ]
    },
    {
      "cell_type": "code",
      "source": [
        "#Python Numpy Zeros Array – Two Dimensional\n",
        "a = np.zeros((3, 4))\n",
        "print(a)"
      ],
      "metadata": {
        "colab": {
          "base_uri": "https://localhost:8080/",
          "height": 0
        },
        "id": "btnBg2QCNV5v",
        "outputId": "62b922a4-fe1b-46eb-a764-91b25d729b87"
      },
      "execution_count": 169,
      "outputs": [
        {
          "output_type": "stream",
          "name": "stdout",
          "text": [
            "[[0. 0. 0. 0.]\n",
            " [0. 0. 0. 0.]\n",
            " [0. 0. 0. 0.]]\n"
          ]
        }
      ]
    },
    {
      "cell_type": "code",
      "source": [
        "#Python Numpy Zeros Array – Three Dimensional\n",
        "a = np.zeros((3, 2, 4))\n",
        "print(a)"
      ],
      "metadata": {
        "colab": {
          "base_uri": "https://localhost:8080/",
          "height": 0
        },
        "id": "cDvHGbfPNncJ",
        "outputId": "03e9df25-3867-48f0-e4f8-76f3ab7dd7e4"
      },
      "execution_count": 170,
      "outputs": [
        {
          "output_type": "stream",
          "name": "stdout",
          "text": [
            "[[[0. 0. 0. 0.]\n",
            "  [0. 0. 0. 0.]]\n",
            "\n",
            " [[0. 0. 0. 0.]\n",
            "  [0. 0. 0. 0.]]\n",
            "\n",
            " [[0. 0. 0. 0.]\n",
            "  [0. 0. 0. 0.]]]\n"
          ]
        }
      ]
    },
    {
      "cell_type": "code",
      "source": [
        "#Python Numpy Zeros Array with Specific Datatype\n",
        "a = np.zeros(8, int)\n",
        "print(a)"
      ],
      "metadata": {
        "colab": {
          "base_uri": "https://localhost:8080/",
          "height": 0
        },
        "id": "hrersmp5NxnX",
        "outputId": "7bb5ff60-c508-4c1a-d205-308cdf4b71d0"
      },
      "execution_count": 171,
      "outputs": [
        {
          "output_type": "stream",
          "name": "stdout",
          "text": [
            "[0 0 0 0 0 0 0 0]\n"
          ]
        }
      ]
    },
    {
      "cell_type": "markdown",
      "source": [
        "5.Get Specific Row"
      ],
      "metadata": {
        "id": "XgveEmgjN-c5"
      }
    },
    {
      "cell_type": "code",
      "source": [
        "#Access a specific row of elements\n",
        "arr = np.array([[[11, 11, 9, 9],\n",
        "                 [11, 0, 2, 0]],\n",
        "                [[10, 14, 9, 14],\n",
        "                 [0, 1, 11, 11]]])\n",
        "print('Array Shape: ',arr.shape)\n",
        "row = arr[0, :, 1]\n",
        "print('Desired Row of Elements: ', row)"
      ],
      "metadata": {
        "colab": {
          "base_uri": "https://localhost:8080/",
          "height": 0
        },
        "id": "xois9ecuOHDp",
        "outputId": "92b56538-aa55-400e-c7e1-dda68f2b66e7"
      },
      "execution_count": 172,
      "outputs": [
        {
          "output_type": "stream",
          "name": "stdout",
          "text": [
            "Array Shape:  (2, 2, 4)\n",
            "Desired Row of Elements:  [11  0]\n"
          ]
        }
      ]
    },
    {
      "cell_type": "code",
      "source": [
        "#Access a Specific Row or Column in 2D Numpy Array\n",
        "arr = np.array([[11, 11, 9, 9],\n",
        "                [11,  0, 2, 0]])\n",
        "print('Array\\n',arr)\n",
        "row = arr[1, :]\n",
        "print('arr[1, :] : ', row)\n",
        "row = arr[:, 2]\n",
        "print('arr[:, 2] : ', row)"
      ],
      "metadata": {
        "colab": {
          "base_uri": "https://localhost:8080/",
          "height": 0
        },
        "id": "7IzY1UecOXOS",
        "outputId": "a10871e5-4594-41c5-a7cb-6c726bc7e24b"
      },
      "execution_count": 173,
      "outputs": [
        {
          "output_type": "stream",
          "name": "stdout",
          "text": [
            "Array\n",
            " [[11 11  9  9]\n",
            " [11  0  2  0]]\n",
            "arr[1, :] :  [11  0  2  0]\n",
            "arr[:, 2] :  [9 2]\n"
          ]
        }
      ]
    },
    {
      "cell_type": "markdown",
      "source": [
        "6.Get Array Shape\n"
      ],
      "metadata": {
        "id": "iT9Jbe0rOleq"
      }
    },
    {
      "cell_type": "code",
      "source": [
        "#Get Shape of Multi-Dimensional Numpy Array\n",
        "arr = np.array([[[11, 11, 9, 9],\n",
        "                  [11, 0, 2, 0]\n",
        "\t\t\t\t ],\n",
        "\t             [[10, 14, 9, 14],\n",
        "                  [0, 1, 11, 11]]])\n",
        "shape = arr.shape\n",
        "print(shape)"
      ],
      "metadata": {
        "colab": {
          "base_uri": "https://localhost:8080/",
          "height": 0
        },
        "id": "EmQ2lZTnOwNU",
        "outputId": "d8b8505d-2b10-4364-bb1f-c2610208fb3e"
      },
      "execution_count": 174,
      "outputs": [
        {
          "output_type": "stream",
          "name": "stdout",
          "text": [
            "(2, 2, 4)\n"
          ]
        }
      ]
    },
    {
      "cell_type": "code",
      "source": [
        "#Get Shape of 2D Numpy Array\n",
        "arr = np.array([[11, 11, 9, 9],\n",
        "                  [11, 0, 2, 0]])\n",
        "shape = arr.shape\n",
        "print(shape)"
      ],
      "metadata": {
        "colab": {
          "base_uri": "https://localhost:8080/",
          "height": 0
        },
        "id": "idbSyprWO7yt",
        "outputId": "728073fa-4558-4bf9-985e-3407d9f76c8e"
      },
      "execution_count": 175,
      "outputs": [
        {
          "output_type": "stream",
          "name": "stdout",
          "text": [
            "(2, 4)\n"
          ]
        }
      ]
    },
    {
      "cell_type": "code",
      "source": [
        "#Get Shape of 1-Dimensional Numpy Array\n",
        "arr = np.array([11, 11, 9, 9])\n",
        "# get array shape\n",
        "shape = arr.shape\n",
        "print(shape)"
      ],
      "metadata": {
        "colab": {
          "base_uri": "https://localhost:8080/",
          "height": 0
        },
        "id": "bcogd_JhPHTt",
        "outputId": "47a175a2-39b2-4b9f-c945-98c685e5429c"
      },
      "execution_count": 176,
      "outputs": [
        {
          "output_type": "stream",
          "name": "stdout",
          "text": [
            "(4,)\n"
          ]
        }
      ]
    },
    {
      "cell_type": "markdown",
      "source": [
        "7. Iterate over Array"
      ],
      "metadata": {
        "id": "VP-3n2J8PR_c"
      }
    },
    {
      "cell_type": "code",
      "source": [
        "a = (np.arange(8)*2).reshape(2,4)\n",
        "print(\"The array\\n\",a)\n",
        "print(\"\\nIterating over all the elemnets of array\")\n",
        "for x in np.nditer(a):\n",
        "\tprint(x, end=' ')"
      ],
      "metadata": {
        "colab": {
          "base_uri": "https://localhost:8080/",
          "height": 0
        },
        "id": "zVnGdFO3PXmC",
        "outputId": "1ef300c2-33b2-4bcb-9a04-78d4a06dd5cf"
      },
      "execution_count": 177,
      "outputs": [
        {
          "output_type": "stream",
          "name": "stdout",
          "text": [
            "The array\n",
            " [[ 0  2  4  6]\n",
            " [ 8 10 12 14]]\n",
            "\n",
            "Iterating over all the elemnets of array\n",
            "0 2 4 6 8 10 12 14 "
          ]
        }
      ]
    },
    {
      "cell_type": "markdown",
      "source": [
        "8.Duplicate or Copy Array Data to Another Array"
      ],
      "metadata": {
        "id": "SXczJyBdPgxA"
      }
    },
    {
      "cell_type": "code",
      "source": [
        "#using copy()\n",
        "a = np.array([[8, 2, 3],\n",
        "              [4, 7, 6]])\n",
        "b = a.copy()\n",
        "\n",
        "# modify a\n",
        "a[1, 2] = 13\n",
        "\n",
        "# check if b has remained the same\n",
        "print('a\\n',a)\n",
        "print('\\nb\\n',b)"
      ],
      "metadata": {
        "colab": {
          "base_uri": "https://localhost:8080/",
          "height": 0
        },
        "id": "9Y7aNpCAPnpQ",
        "outputId": "bb074293-9a35-4a2a-96cc-f0ade1339b8f"
      },
      "execution_count": 179,
      "outputs": [
        {
          "output_type": "stream",
          "name": "stdout",
          "text": [
            "a\n",
            " [[ 8  2  3]\n",
            " [ 4  7 13]]\n",
            "\n",
            "b\n",
            " [[8 2 3]\n",
            " [4 7 6]]\n"
          ]
        }
      ]
    },
    {
      "cell_type": "code",
      "source": [
        "#if we use assignment operator\n",
        "a = np.array([[8, 2, 3],\n",
        "              [4, 7, 6]])\n",
        "b = a\n",
        "\n",
        "# modify a\n",
        "a[1, 2] = 13\n",
        "\n",
        "# check if b has remained the same\n",
        "print('a\\n',a)\n",
        "print('\\nb\\n',b)"
      ],
      "metadata": {
        "colab": {
          "base_uri": "https://localhost:8080/",
          "height": 0
        },
        "id": "JPpIuIvvPyGQ",
        "outputId": "866a8d3b-c92e-46e8-96ab-bb6a4586763b"
      },
      "execution_count": 180,
      "outputs": [
        {
          "output_type": "stream",
          "name": "stdout",
          "text": [
            "a\n",
            " [[ 8  2  3]\n",
            " [ 4  7 13]]\n",
            "\n",
            "b\n",
            " [[ 8  2  3]\n",
            " [ 4  7 13]]\n"
          ]
        }
      ]
    },
    {
      "cell_type": "markdown",
      "source": [
        "9.Stack Arrays Vertically"
      ],
      "metadata": {
        "id": "GP8gDfTqQGW-"
      }
    },
    {
      "cell_type": "code",
      "source": [
        "# numpy.vstack() with two 2D arrays\n",
        "A = np.array([[2, 1], [5, 4]])\n",
        "B = np.array([[3, 4], [7, 8]])\n",
        "output = np.vstack((A, B))\n",
        "print(output)\n"
      ],
      "metadata": {
        "colab": {
          "base_uri": "https://localhost:8080/",
          "height": 0
        },
        "id": "wdGF7hw9QMPn",
        "outputId": "0e4ebd30-8dee-4f68-ba30-8d2a35709151"
      },
      "execution_count": 181,
      "outputs": [
        {
          "output_type": "stream",
          "name": "stdout",
          "text": [
            "[[2 1]\n",
            " [5 4]\n",
            " [3 4]\n",
            " [7 8]]\n"
          ]
        }
      ]
    },
    {
      "cell_type": "code",
      "source": [
        "#Vertically Stack 1D Numpy Arrays\n",
        "A = np.array([2, 1, 5, 4])\n",
        "B = np.array([3, 4, 7, 8])\n",
        "C = np.array([8, 6, 0, 3])\n",
        "output = np.vstack((A, B, C))\n",
        "print(output)"
      ],
      "metadata": {
        "colab": {
          "base_uri": "https://localhost:8080/",
          "height": 0
        },
        "id": "cl3Ho8brQaWy",
        "outputId": "37766b0e-e499-474d-f86d-a52282159980"
      },
      "execution_count": 182,
      "outputs": [
        {
          "output_type": "stream",
          "name": "stdout",
          "text": [
            "[[2 1 5 4]\n",
            " [3 4 7 8]\n",
            " [8 6 0 3]]\n"
          ]
        }
      ]
    },
    {
      "cell_type": "markdown",
      "source": [
        ""
      ],
      "metadata": {
        "id": "1QM37sZAOWwK"
      }
    },
    {
      "cell_type": "markdown",
      "source": [
        "10.Stack Arrays Horizontally"
      ],
      "metadata": {
        "id": "GfWjPKT9QmKx"
      }
    },
    {
      "cell_type": "code",
      "source": [
        "A = np.array([2, 1, 5, 4])\n",
        "B = np.array([3, 4, 7, 8])\n",
        "C = np.array([8, 6, 0, 3])\n",
        "output = np.hstack((A, B, C))\n",
        "print(output)"
      ],
      "metadata": {
        "colab": {
          "base_uri": "https://localhost:8080/",
          "height": 0
        },
        "id": "5twXsFIrOSPr",
        "outputId": "f47a480e-3c9c-4475-feb2-23fa5aef70a0"
      },
      "execution_count": 183,
      "outputs": [
        {
          "output_type": "stream",
          "name": "stdout",
          "text": [
            "[2 1 5 4 3 4 7 8 8 6 0 3]\n"
          ]
        }
      ]
    },
    {
      "cell_type": "markdown",
      "source": [
        "11.Dot Product"
      ],
      "metadata": {
        "id": "nuq1CRyKQ0r7"
      }
    },
    {
      "cell_type": "code",
      "source": [
        "#Numpy Dot Product of Scalars\n",
        "a = 3 \n",
        "b = 4\n",
        "output = np.dot(a,b)\n",
        "print(output)"
      ],
      "metadata": {
        "colab": {
          "base_uri": "https://localhost:8080/",
          "height": 0
        },
        "id": "42xfrmbKRBwB",
        "outputId": "de70edde-baad-42f8-f2bf-c7b2edf9e1e2"
      },
      "execution_count": 184,
      "outputs": [
        {
          "output_type": "stream",
          "name": "stdout",
          "text": [
            "12\n"
          ]
        }
      ]
    },
    {
      "cell_type": "code",
      "source": [
        "#Numpy Dot Product of 1D Arrays (Vectors)\n",
        "A = np.array([2, 1, 5, 4])\n",
        "B = np.array([3, 4, 7, 8])\n",
        "output = np.dot(A, B)\n",
        "print(output)"
      ],
      "metadata": {
        "colab": {
          "base_uri": "https://localhost:8080/",
          "height": 0
        },
        "id": "ej_QDUoFRMnY",
        "outputId": "cba688e2-5702-403c-f186-8b6be5dca63b"
      },
      "execution_count": 185,
      "outputs": [
        {
          "output_type": "stream",
          "name": "stdout",
          "text": [
            "77\n"
          ]
        }
      ]
    },
    {
      "cell_type": "code",
      "source": [
        "# Numpy Dot Product of 2-D Arrays (Matrix)\n",
        "A = np.array([[2, 1], [5, 4]])\n",
        "B = np.array([[3, 4], [7, 8]])\n",
        "output = np.dot(A, B)\n",
        "print(output)"
      ],
      "metadata": {
        "colab": {
          "base_uri": "https://localhost:8080/",
          "height": 0
        },
        "id": "ToM89oamRXP4",
        "outputId": "dc89b01a-d1e2-4545-9c31-33de58f75ed9"
      },
      "execution_count": 186,
      "outputs": [
        {
          "output_type": "stream",
          "name": "stdout",
          "text": [
            "[[13 16]\n",
            " [43 52]]\n"
          ]
        }
      ]
    },
    {
      "cell_type": "markdown",
      "source": [
        "12.Cross Product"
      ],
      "metadata": {
        "id": "_scpKzKZRqLX"
      }
    },
    {
      "cell_type": "code",
      "source": [
        "#Cross Product of Numpy Arrays\n",
        "A = np.array([2, 3])\n",
        "B = np.array([1, 7])\n",
        "output = np.cross(A, B)\n",
        "print(output)"
      ],
      "metadata": {
        "colab": {
          "base_uri": "https://localhost:8080/",
          "height": 0
        },
        "id": "IUiSBF6fRwvF",
        "outputId": "8ff67845-f59b-45ab-f228-31cae9bdbb6e"
      },
      "execution_count": 187,
      "outputs": [
        {
          "output_type": "stream",
          "name": "stdout",
          "text": [
            "11\n"
          ]
        }
      ]
    },
    {
      "cell_type": "code",
      "source": [
        "#Cross Product of Numpy Arrays in 3D\n",
        "A = np.array([2, 7, 4])\n",
        "B = np.array([3, 9, 8])\n",
        "output = np.cross(A, B)\n",
        "print(output)"
      ],
      "metadata": {
        "colab": {
          "base_uri": "https://localhost:8080/",
          "height": 0
        },
        "id": "sOz-gLDDR6WN",
        "outputId": "48545171-7619-44a7-9794-d157f1391c22"
      },
      "execution_count": 188,
      "outputs": [
        {
          "output_type": "stream",
          "name": "stdout",
          "text": [
            "[20 -4 -3]\n"
          ]
        }
      ]
    },
    {
      "cell_type": "markdown",
      "source": [
        ""
      ],
      "metadata": {
        "id": "Q5a-Bz6NIWou"
      }
    },
    {
      "cell_type": "markdown",
      "source": [
        ""
      ],
      "metadata": {
        "id": "QvEQcrL7EZ9t"
      }
    },
    {
      "cell_type": "markdown",
      "source": [
        ""
      ],
      "metadata": {
        "id": "-0FeKs5yDFOY"
      }
    },
    {
      "cell_type": "markdown",
      "source": [
        "How to get unique items and counts"
      ],
      "metadata": {
        "id": "-u_T5e7Q9kBT"
      }
    },
    {
      "cell_type": "markdown",
      "source": [
        ""
      ],
      "metadata": {
        "id": "1SqLTbwL6fF3"
      }
    },
    {
      "cell_type": "code",
      "source": [
        ""
      ],
      "metadata": {
        "id": "GWg2i59T2O1L"
      },
      "execution_count": null,
      "outputs": []
    }
  ]
}